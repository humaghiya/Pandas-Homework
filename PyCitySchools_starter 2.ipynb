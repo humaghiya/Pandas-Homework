{
 "cells": [
  {
   "cell_type": "markdown",
   "metadata": {},
   "source": [
    "# PyCity Schools Analysis\n",
    "\n",
    "* As a whole, schools with higher budgets, did not yield better test results. By contrast, schools with higher spending per student actually (\\$645-675) underperformed compared to schools with smaller budgets (<\\$585 per student).\n",
    "\n",
    "* As a whole, smaller and medium sized schools dramatically out-performed large sized schools on passing math performances (89-91% passing vs 67%).\n",
    "\n",
    "* As a whole, charter schools out-performed the public district schools across all metrics. However, more analysis will be required to glean if the effect is due to school practices or the fact that charter schools tend to serve smaller student populations per school. \n",
    "---"
   ]
  },
  {
   "cell_type": "markdown",
   "metadata": {},
   "source": [
    "### Note\n",
    "* Instructions have been included for each segment. You do not have to follow them exactly, but they are included to help you think through the steps."
   ]
  },
  {
   "cell_type": "code",
   "execution_count": 8,
   "metadata": {},
   "outputs": [],
   "source": [
    "# Dependencies and Setup\n",
    "import pandas as pd\n",
    "import numpy as np\n",
    "import os\n",
    "# File to Load\n",
    "school_data_path = os.path.join('Resources','schools_complete.csv')\n",
    "student_data_path = os.path.join('Resources','students_complete.csv')\n",
    "\n",
    "# Read School and Student Data File and store into Pandas Data Frames\n",
    "school_data = pd.read_csv(school_data_path)\n",
    "student_data = pd.read_csv(student_data_path)\n",
    "\n",
    "# Combine the data into a single dataset\n",
    "school_data_complete = pd.merge(student_data, school_data, how=\"left\", on=[\"school_name\", \"school_name\"])"
   ]
  },
  {
   "cell_type": "markdown",
   "metadata": {},
   "source": [
    "## District Summary\n",
    "\n",
    "* Calculate the total number of schools\n",
    "\n",
    "* Calculate the total number of students\n",
    "\n",
    "* Calculate the total budget\n",
    "\n",
    "* Calculate the average math score \n",
    "\n",
    "* Calculate the average reading score\n",
    "\n",
    "* Calculate the overall passing rate (overall average score), i.e. (avg. math score + avg. reading score)/2\n",
    "\n",
    "* Calculate the percentage of students with a passing math score (70 or greater)\n",
    "\n",
    "* Calculate the percentage of students with a passing reading score (70 or greater)\n",
    "\n",
    "* Create a dataframe to hold the above results\n",
    "\n",
    "* Optional: give the displayed data cleaner formatting"
   ]
  },
  {
   "cell_type": "code",
   "execution_count": 4,
   "metadata": {},
   "outputs": [
    {
     "ename": "NameError",
     "evalue": "name 'school_data_complete' is not defined",
     "output_type": "error",
     "traceback": [
      "\u001b[1;31m---------------------------------------------------------------------------\u001b[0m",
      "\u001b[1;31mNameError\u001b[0m                                 Traceback (most recent call last)",
      "\u001b[1;32m<ipython-input-4-c0a106522747>\u001b[0m in \u001b[0;36m<module>\u001b[1;34m\u001b[0m\n\u001b[0;32m      1\u001b[0m \u001b[1;31m# Calculate the total number of schools\u001b[0m\u001b[1;33m\u001b[0m\u001b[1;33m\u001b[0m\u001b[1;33m\u001b[0m\u001b[0m\n\u001b[1;32m----> 2\u001b[1;33m \u001b[0mtotal_school\u001b[0m \u001b[1;33m=\u001b[0m \u001b[0mlen\u001b[0m\u001b[1;33m(\u001b[0m\u001b[0mschool_data_complete\u001b[0m\u001b[1;33m[\u001b[0m\u001b[1;34m'school_name'\u001b[0m\u001b[1;33m]\u001b[0m\u001b[1;33m.\u001b[0m\u001b[0munique\u001b[0m\u001b[1;33m(\u001b[0m\u001b[1;33m)\u001b[0m\u001b[1;33m)\u001b[0m\u001b[1;33m\u001b[0m\u001b[1;33m\u001b[0m\u001b[0m\n\u001b[0m\u001b[0;32m      3\u001b[0m \u001b[1;31m# Calculate the total number of students\u001b[0m\u001b[1;33m\u001b[0m\u001b[1;33m\u001b[0m\u001b[1;33m\u001b[0m\u001b[0m\n\u001b[0;32m      4\u001b[0m \u001b[0mtotal_student\u001b[0m \u001b[1;33m=\u001b[0m \u001b[0mschool_data_complete\u001b[0m\u001b[1;33m[\u001b[0m\u001b[1;34m'student_name'\u001b[0m\u001b[1;33m]\u001b[0m\u001b[1;33m.\u001b[0m\u001b[0mcount\u001b[0m\u001b[1;33m(\u001b[0m\u001b[1;33m)\u001b[0m\u001b[1;33m\u001b[0m\u001b[1;33m\u001b[0m\u001b[0m\n\u001b[0;32m      5\u001b[0m \u001b[1;31m# Calculate the total budget\u001b[0m\u001b[1;33m\u001b[0m\u001b[1;33m\u001b[0m\u001b[1;33m\u001b[0m\u001b[0m\n",
      "\u001b[1;31mNameError\u001b[0m: name 'school_data_complete' is not defined"
     ]
    }
   ],
   "source": [
    "# Calculate the total number of schools\n",
    "total_school = len(school_data_complete['school_name'].unique())\n",
    "# Calculate the total number of students\n",
    "total_student = school_data_complete['student_name'].count()\n",
    "# Calculate the total budget\n",
    "total_budget = sum(school_data_complete['budget'].unique())\n",
    "# Calculate the average math score\n",
    "average_math_score = school_data_complete['math_score'].mean()\n",
    "# Calculate the average reading score\n",
    "average_reading_score = school_data_complete['reading_score'].mean()\n",
    "# Calculate the overall passing rate\n",
    "overall_passing_score = (average_math_score + average_reading_score)/2\n",
    "# Calculate the percentage of students with a passing math score (70 or greater)\n",
    "passing_math_score = (school_data_complete[school_data_complete['math_score']>=70]['student_name'].count()/total_student)*100\n",
    "# Calculate the percentage of students with a passing reading score (70 or greater)\n",
    "passing_reading_score = (school_data_complete[school_data_complete['reading_score']>=70]['student_name'].count()/total_student)*100\n",
    "\n",
    "# Create a dataframe to hold the above results and formatting\n",
    "district = {\n",
    "    'Total Schools':total_school,\n",
    "    'Total Student':'{:,}'.format(total_student),\n",
    "    'Total Budget':'${:,.2f}'.format(total_budget),\n",
    "    'Average Math Score':average_math_score,\n",
    "    'Average Reading Score':average_reading_score,\n",
    "    '% Passing Math':passing_math_score,\n",
    "    '% Passing Reading':passing_reading_score,\n",
    "    '% Overall Passing Score':[overall_passing_score],  \n",
    "}\n",
    "\n",
    "district_summery = pd.DataFrame(district)\n",
    "district_summery"
   ]
  },
  {
   "cell_type": "markdown",
   "metadata": {},
   "source": [
    "## School Summary"
   ]
  },
  {
   "cell_type": "markdown",
   "metadata": {},
   "source": [
    "* Create an overview table that summarizes key metrics about each school, including:\n",
    "  * School Name\n",
    "  * School Type\n",
    "  * Total Students\n",
    "  * Total School Budget\n",
    "  * Per Student Budget\n",
    "  * Average Math Score\n",
    "  * Average Reading Score\n",
    "  * % Passing Math\n",
    "  * % Passing Reading\n",
    "  * Overall Passing Rate (Average of the above two)\n",
    "  \n",
    "* Create a dataframe to hold the above results"
   ]
  },
  {
   "cell_type": "markdown",
   "metadata": {},
   "source": [
    "## Top Performing Schools (By Passing Rate)"
   ]
  },
  {
   "cell_type": "markdown",
   "metadata": {},
   "source": [
    "* Sort and display the top five schools in overall passing rate"
   ]
  },
  {
   "cell_type": "code",
   "execution_count": null,
   "metadata": {},
   "outputs": [],
   "source": [
    "# Grouped our complete data frame by school name \n",
    "grouped_school = school_data_complete.groupby(['school_name'])\n",
    "# Calculate the total student for each school\n",
    "total_student = grouped_school.size()\n",
    "# Get the school type for each school\n",
    "school_type = grouped_school['type'].first()\n",
    "# Calculate the total budget for each school\n",
    "total_budget = grouped_school['budget'].first()\n",
    "# Calculate the budget per student for each school\n",
    "t_budget_per_student = total_budget/total_student\n",
    "# Calculate the average math score for each school\n",
    "average_math_score = grouped_school['math_score'].mean()\n",
    "# Calculate the average reading score for each school\n",
    "average_reading_score = grouped_school['reading_score'].mean()\n",
    "# Calculate the percentange of passing math score for each school\n",
    "grouped_passing_math = school_data_complete[school_data_complete['math_score']>=70].groupby(['school_name']).size()\n",
    "percent_passing_math = (grouped_passing_math/total_student)*100\n",
    "# Calculate the percentange of passing math score for each school\n",
    "grouped_passing_reading = school_data_complete[school_data_complete['reading_score']>=70].groupby(['school_name']).size()\n",
    "percent_passing_reading = (grouped_passing_reading/total_student)*100\n",
    "# Calculate the overall passing score for each school\n",
    "percent_overall_passing = (percent_passing_math + percent_passing_reading)/2\n",
    "\n",
    "# Create a dataframe to hold the above results\n",
    "school={\n",
    "    'School Type': school_type,\n",
    "    'Total Students':total_student,\n",
    "    'Total School Budget': total_budget,\n",
    "    'Per Student Budget': t_budget_per_student,\n",
    "    'Average Math Score': average_math_score,\n",
    "    'Average Reading Score': average_reading_score,\n",
    "    '% Passing Math': percent_passing_math,\n",
    "    '% Passing Reading': percent_passing_reading,\n",
    "    '% Overall Passing Rate': percent_overall_passing,\n",
    "}\n",
    "school_summary = pd.DataFrame(school)\n",
    "# Create a copy of school summary data frame before formatting to be able to use the numeric data on original data frame later\n",
    "displayed_school_summary = school_summary.copy()\n",
    "# Formatting the display data frame\n",
    "displayed_school_summary['Per Student Budget'] = displayed_school_summary['Per Student Budget'].map('${:,.2f}'.format)\n",
    "displayed_school_summary['Total School Budget'] = displayed_school_summary['Total School Budget'].map('${:,.2f}'.format)\n",
    "displayed_school_summary.index.name = None"
   ]
  },
  {
   "cell_type": "markdown",
   "metadata": {},
   "source": [
    "## Bottom Performing Schools (By Passing Rate)"
   ]
  },
  {
   "cell_type": "markdown",
   "metadata": {},
   "source": [
    "* Sort and display the five worst-performing schools"
   ]
  },
  {
   "cell_type": "code",
   "execution_count": null,
   "metadata": {},
   "outputs": [],
   "source": [
    "# Sort and display the top five schools in overall passing rate\n",
    "top_performing_schools = displayed_school_summary.sort_values(by='% Overall Passing Rate',ascending=False)\n",
    "top_performing_schools.head()"
   ]
  },
  {
   "cell_type": "markdown",
   "metadata": {
    "collapsed": true
   },
   "source": [
    "## Math Scores by Grade"
   ]
  },
  {
   "cell_type": "markdown",
   "metadata": {},
   "source": [
    "* Create a table that lists the average Reading Score for students of each grade level (9th, 10th, 11th, 12th) at each school.\n",
    "\n",
    "  * Create a pandas series for each grade. Hint: use a conditional statement.\n",
    "  \n",
    "  * Group each series by school\n",
    "  \n",
    "  * Combine the series into a dataframe\n",
    "  \n",
    "  * Optional: give the displayed data cleaner formatting"
   ]
  },
  {
   "cell_type": "code",
   "execution_count": null,
   "metadata": {},
   "outputs": [],
   "source": [
    "\n",
    "# Sort and display the five worst-performing schools\n",
    "worst_performing_schools = displayed_school_summary.sort_values(by='% Overall Passing Rate')\n",
    "worst_performing_schools.head()"
   ]
  },
  {
   "cell_type": "markdown",
   "metadata": {},
   "source": [
    "## Reading Score by Grade "
   ]
  },
  {
   "cell_type": "markdown",
   "metadata": {},
   "source": [
    "* Perform the same operations as above for reading scores"
   ]
  },
  {
   "cell_type": "code",
   "execution_count": null,
   "metadata": {},
   "outputs": [],
   "source": [
    "# Calculate the average math score for students of 9th grade at each school\n",
    "school_avg_math_9th = school_data_complete[school_data_complete['grade']=='9th'].groupby('school_name')['math_score'].mean()\n",
    "# Calculate the average math score for students of 10th grade at each school\n",
    "school_avg_math_10th = school_data_complete[school_data_complete['grade']=='10th'].groupby('school_name')['math_score'].mean()\n",
    "# Calculate the average math score for students of 11th grade at each school\n",
    "school_avg_math_11th = school_data_complete[school_data_complete['grade']=='11th'].groupby('school_name')['math_score'].mean()\n",
    "# Calculate the average math score for students of 12th grade at each school\n",
    "school_avg_math_12th = school_data_complete[school_data_complete['grade']=='12th'].groupby('school_name')['math_score'].mean()\n",
    "\n",
    "# Create a dataframe to hold the above results\n",
    "grade_math_score={\n",
    "    '9th':school_avg_math_9th,\n",
    "    '10th':school_avg_math_10th,\n",
    "    '11th':school_avg_math_11th,\n",
    "    '12th':school_avg_math_12th,\n",
    "    }\n",
    "\n",
    "math_score_by_grade = pd.DataFrame(grade_math_score)\n",
    "math_score_by_grade.index.name = None\n",
    "math_score_by_grade.head(20)"
   ]
  },
  {
   "cell_type": "markdown",
   "metadata": {},
   "source": [
    "## Scores by School Spending"
   ]
  },
  {
   "cell_type": "markdown",
   "metadata": {},
   "source": [
    "* Create a table that breaks down school performances based on average Spending Ranges (Per Student). Use 4 reasonable bins to group school spending. Include in the table each of the following:\n",
    "  * Average Math Score\n",
    "  * Average Reading Score\n",
    "  * % Passing Math\n",
    "  * % Passing Reading\n",
    "  * Overall Passing Rate (Average of the above two)"
   ]
  },
  {
   "cell_type": "code",
   "execution_count": null,
   "metadata": {},
   "outputs": [],
   "source": [
    "# Sample bins. Feel free to create your own bins.\n",
    "spending_bins = [0, 585, 615, 645, 675]\n",
    "group_names = [\"<$585\", \"$585-615\", \"$615-645\", \"$645-675\"]"
   ]
  },
  {
   "cell_type": "code",
   "execution_count": null,
   "metadata": {},
   "outputs": [],
   "source": [
    "# Calculate the average reading score for students of 9th grade at each school\n",
    "school_avg_reading_9th = school_data_complete[school_data_complete['grade']=='9th'].groupby('school_name')['reading_score'].mean()\n",
    "# Calculate the average reading score for students of 10th grade at each school\n",
    "school_avg_reading_10th = school_data_complete[school_data_complete['grade']=='10th'].groupby('school_name')['reading_score'].mean()\n",
    "# Calculate the average reading score for students of 11th grade at each school\n",
    "school_avg_reading_11th = school_data_complete[school_data_complete['grade']=='11th'].groupby('school_name')['reading_score'].mean()\n",
    "# Calculate the average reading score for students of 12th grade at each school\n",
    "school_avg_reading_12th = school_data_complete[school_data_complete['grade']=='12th'].groupby('school_name')['reading_score'].mean()\n",
    "\n",
    "# Create a dataframe to hold the above results\n",
    "grade_reading_score={\n",
    "    '9th':school_avg_reading_9th,\n",
    "    '10th':school_avg_reading_10th,\n",
    "    '11th':school_avg_reading_11th,\n",
    "    '12th':school_avg_reading_12th,\n",
    "    }\n",
    "\n",
    "reading_score_by_grade = pd.DataFrame(grade_reading_score)\n",
    "reading_score_by_grade.index.name = None\n",
    "reading_score_by_grade.head(20)"
   ]
  },
  {
   "cell_type": "markdown",
   "metadata": {},
   "source": [
    "## Scores by School Size"
   ]
  },
  {
   "cell_type": "markdown",
   "metadata": {},
   "source": [
    "* Perform the same operations as above, based on school size."
   ]
  },
  {
   "cell_type": "code",
   "execution_count": null,
   "metadata": {},
   "outputs": [],
   "source": [
    "# Sample bins. Feel free to create your own bins.\n",
    "size_bins = [0, 1000, 2000, 5000]\n",
    "group_names = [\"Small (<1000)\", \"Medium (1000-2000)\", \"Large (2000-5000)\"]"
   ]
  },
  {
   "cell_type": "code",
   "execution_count": null,
   "metadata": {
    "scrolled": true
   },
   "outputs": [],
   "source": [
    "# Create a new data frame by locating the desired columns\n",
    "scores_spending = school_summary.loc[:,['Average Math Score',\n",
    "                                  'Average Reading Score','% Passing Math',\n",
    "                                  '% Passing Reading','% Overall Passing Rate',]]\n",
    "# Add a new columns named Spending Ranges (Per Student) and binning based off budget per student\n",
    "scores_spending['Spending Ranges (Per Student)']= pd.cut(school_summary['Per Student Budget'], size_bins,labels=group_names)\n",
    "# Create a group based off of the bins\n",
    "scores_spending = scores_spending.groupby('Spending Ranges (Per Student)').mean()\n",
    "scores_spending.head()"
   ]
  },
  {
   "cell_type": "markdown",
   "metadata": {},
   "source": [
    "## Scores by School Type"
   ]
  },
  {
   "cell_type": "markdown",
   "metadata": {},
   "source": [
    "* Perform the same operations as above, based on school type."
   ]
  },
  {
   "cell_type": "code",
   "execution_count": null,
   "metadata": {},
   "outputs": [],
   "source": [
    "\n",
    "# Create a new data frame with our desired columns\n",
    "scores_type = school_summary[['School Type','Average Math Score',\n",
    "                                  'Average Reading Score','% Passing Math',\n",
    "                                  '% Passing Reading','% Overall Passing Rate',]]\n",
    "# Create a group based off of the school type\n",
    "scores_type = scores_type.groupby('School Type').mean()\n",
    "scores_type.head()"
   ]
  },
  {
   "cell_type": "code",
   "execution_count": null,
   "metadata": {},
   "outputs": [],
   "source": []
  },
  {
   "cell_type": "code",
   "execution_count": null,
   "metadata": {},
   "outputs": [],
   "source": []
  },
  {
   "cell_type": "code",
   "execution_count": null,
   "metadata": {},
   "outputs": [],
   "source": []
  }
 ],
 "metadata": {
  "anaconda-cloud": {},
  "kernel_info": {
   "name": "python3"
  },
  "kernelspec": {
   "display_name": "Python 3",
   "language": "python",
   "name": "python3"
  },
  "language_info": {
   "codemirror_mode": {
    "name": "ipython",
    "version": 3
   },
   "file_extension": ".py",
   "mimetype": "text/x-python",
   "name": "python",
   "nbconvert_exporter": "python",
   "pygments_lexer": "ipython3",
   "version": "3.7.1"
  },
  "nteract": {
   "version": "0.8.4"
  }
 },
 "nbformat": 4,
 "nbformat_minor": 1
}
